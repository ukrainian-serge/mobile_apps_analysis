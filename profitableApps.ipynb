{
 "cells": [
  {
   "cell_type": "markdown",
   "metadata": {},
   "source": [
    "# Profitable App Analysis\n",
    "by Serge Kamilchu\n",
    "\n",
    "---\n",
    "\n",
    "A brief dive into the profiles of apps offered at **Apple App Store** and **Google Play Market** to ascertain profitablilty potential of apps based on chosen descriptor columns(examples: `Genre`, `Category`, `user_ratings`, `Installs`, etc.,).\n",
    "**Primary Focus** will be on free/ad-revenue apps. Python3+ with csv module will be used in this analysis. A step by step notation will precede code used to manipulate these data sets.\n",
    "\n",
    "As of September 2018, there were approximately 2 million iOS apps available on the App Store, and 2.1 million Android apps on Google Play. This is a vast amount of data that would take a considerable amount of time and money to collect. For this project we'll have to make due with smaller sample sizes to represent the whole:\n",
    "* [Android Kaggle data-set](https://www.kaggle.com/lava18/google-play-store-apps/home) of approximately ten thousand Android Google Play apps - August 2018.\n",
    "* [iOS Kaggle data-set](https://www.kaggle.com/ramamet4/app-store-apple-data-set-10k-apps/home) of approximately seven thousand Apple Store apps - July 2017.\n",
    "\n",
    "---"
   ]
  },
  {
   "cell_type": "code",
   "execution_count": 2,
   "metadata": {},
   "outputs": [],
   "source": [
    "import csv\n",
    "import os\n",
    "\n",
    "# below: storing both datasets as list of lists into below variables\n",
    "ios_file = list(csv.reader(open('../data_sets/AppleStore.csv')))\n",
    "android_file = list(csv.reader(open('../data_sets/googleplaystore.csv')))\n",
    "\n",
    "# below: multiple assignment to spit header from body of both datasets\n",
    "ios_header, ios_body = ios_file[0], ios_file[1:]\n",
    "android_header, android_body = android_file[0], android_file[1:]\n"
   ]
  },
  {
   "cell_type": "markdown",
   "metadata": {},
   "source": [
    "Below `explore_data()` function takes a few arguments:\n",
    ">- `dataset`: dataset in the form of list of lists.\n",
    ">- `start`,`end`: indices indicating rows of interest to show.\n",
    ">- `rows_and_columns = True` Shows the number of rows and columns. `False` Does not show(default)."
   ]
  },
  {
   "cell_type": "code",
   "execution_count": 3,
   "metadata": {},
   "outputs": [],
   "source": [
    "def explore_data(dataset, start, end, rows_and_columns=False):\n",
    "    dataset_slice = dataset[start:end]\n",
    "    for row in dataset_slice:\n",
    "        print(row)\n",
    "        print('\\n') # print empty row for readability\n",
    "        \n",
    "    if rows_and_columns:\n",
    "        print(f'Total number of rows in : ', len(dataset))\n",
    "        print(f'Total number of columns: ', len(dataset[0]))\n",
    "        "
   ]
  },
  {
   "cell_type": "markdown",
   "metadata": {},
   "source": [
    "---\n",
    "## Apps at a brief glance:\n",
    "\n",
    "In the next few cells I will try to identify column representation using the headers stored in `android_header` and `ios_header`. The Kaggle sources stated above can be referenced for further identification of each column in each platforms' headers if needed.\n",
    "\n",
    "Below is a print out of `android_header`  and `ios_header` and the first couple of rows contained in their respective `_body` datasets.\n",
    "Lets observe the headers to see if there are any columns of interest as pertaining to our goal."
   ]
  },
  {
   "cell_type": "code",
   "execution_count": 4,
   "metadata": {},
   "outputs": [
    {
     "name": "stdout",
     "output_type": "stream",
     "text": [
      "<<ANDROID HEADER ROW>>:  ['App', 'Category', 'Rating', 'Reviews', 'Size', 'Installs', 'Type', 'Price', 'Content Rating', 'Genres', 'Last Updated', 'Current Ver', 'Android Ver'] \n",
      "\n",
      "['Photo Editor & Candy Camera & Grid & ScrapBook', 'ART_AND_DESIGN', '4.1', '159', '19M', '10,000+', 'Free', '0', 'Everyone', 'Art & Design', 'January 7, 2018', '1.0.0', '4.0.3 and up']\n",
      "\n",
      "\n",
      "['Coloring book moana', 'ART_AND_DESIGN', '3.9', '967', '14M', '500,000+', 'Free', '0', 'Everyone', 'Art & Design;Pretend Play', 'January 15, 2018', '2.0.0', '4.0.3 and up']\n",
      "\n",
      "\n",
      "Total number of rows in :  10841\n",
      "Total number of columns:  13\n"
     ]
    }
   ],
   "source": [
    "print(F\"<<ANDROID HEADER ROW>>: \", android_header, '\\n')\n",
    "explore_data(android_body, 0, 2, True)"
   ]
  },
  {
   "cell_type": "markdown",
   "metadata": {},
   "source": [
    "`abdroid_body` contains a total of 10841 app rows and a few columns of interest in the header row are:\n",
    "- `'App'`, `'Category'`, `'Reviews'`, `'Installs'`, `'Type'`, `'Price'`, and `'Genres'`."
   ]
  },
  {
   "cell_type": "code",
   "execution_count": 5,
   "metadata": {},
   "outputs": [
    {
     "name": "stdout",
     "output_type": "stream",
     "text": [
      "<<IOS HEADER ROW>>:  ['', 'id', 'track_name', 'size_bytes', 'currency', 'price', 'rating_count_tot', 'rating_count_ver', 'user_rating', 'user_rating_ver', 'ver', 'cont_rating', 'prime_genre', 'sup_devices.num', 'ipadSc_urls.num', 'lang.num', 'vpp_lic'] \n",
      "\n",
      "['1', '281656475', 'PAC-MAN Premium', '100788224', 'USD', '3.99', '21292', '26', '4', '4.5', '6.3.5', '4+', 'Games', '38', '5', '10', '1']\n",
      "\n",
      "\n",
      "['2', '281796108', 'Evernote - stay organized', '158578688', 'USD', '0', '161065', '26', '4', '3.5', '8.2.2', '4+', 'Productivity', '37', '5', '23', '1']\n",
      "\n",
      "\n",
      "Total number of rows in :  7197\n",
      "Total number of columns:  17\n"
     ]
    }
   ],
   "source": [
    "print(\"<<IOS HEADER ROW>>: \", ios_header, '\\n')\n",
    "explore_data(ios_body, 0, 2, True)"
   ]
  },
  {
   "cell_type": "markdown",
   "metadata": {},
   "source": [
    "`ios_body` contains a total of 7197 apps with a few columns of interest in its header row:\n",
    "- `'track_name'`, `'currency'`, `'price'`, `'rating_count_tot'`, `'rating_count_ver'`, and `'prime_genre'`.\n",
    "\n"
   ]
  },
  {
   "cell_type": "markdown",
   "metadata": {},
   "source": [
    "---\n",
    "## Cleaning incompatible and wrong data\n",
    "\n",
    "Before beginning our analysis, we need to make sure the data we analyze is accurate, otherwise the results of our analysis will be wrong. This means that we'll need to:\n",
    "\n",
    "- Detect apps containing 'NaN' and removes them\n",
    "- Detect inaccurate data and correct (or remove) it\n",
    "- Detect duplicate data and remove the duplicates\n",
    "- Remove non-English apps like 爱奇艺PPS -《欢乐颂2》电视剧热播\n",
    "- Remove non-free apps"
   ]
  },
  {
   "cell_type": "code",
   "execution_count": 5,
   "metadata": {},
   "outputs": [
    {
     "name": "stdout",
     "output_type": "stream",
     "text": [
      "10841\n",
      "9753\n"
     ]
    }
   ],
   "source": [
    "print(len(android_body))\n",
    "\n",
    "# this loop deletes any app row that contains missing items or 'NaN'\n",
    "for row in android_body:\n",
    "    if ('' in row) or ('NaN' in row):\n",
    "        android_body.remove(row)\n",
    "            \n",
    "print(len(android_body))"
   ]
  },
  {
   "cell_type": "markdown",
   "metadata": {},
   "source": [
    "---\n",
    "## Removing duplicate entries\n",
    "##### _Side note: iOS apps do not have empty inputs or duplicates for apps. Work consisting of removing duplicates will be done to the Android dataset only._\n",
    "\n",
    "If we explore the data within `android_body` long enough, we'll find that some apps have more than one entry. For instance, the application Instagram has four entries:\n"
   ]
  },
  {
   "cell_type": "code",
   "execution_count": 6,
   "metadata": {},
   "outputs": [
    {
     "name": "stdout",
     "output_type": "stream",
     "text": [
      "['App', 'Category', 'Rating', 'Reviews', 'Size', 'Installs', 'Type', 'Price', 'Content Rating', 'Genres', 'Last Updated', 'Current Ver', 'Android Ver'] \n",
      "\n",
      "['Instagram', 'SOCIAL', '4.5', '66577313', 'Varies with device', '1,000,000,000+', 'Free', '0', 'Teen', 'Social', 'July 31, 2018', 'Varies with device', 'Varies with device']\n",
      "['Instagram', 'SOCIAL', '4.5', '66577446', 'Varies with device', '1,000,000,000+', 'Free', '0', 'Teen', 'Social', 'July 31, 2018', 'Varies with device', 'Varies with device']\n",
      "['Instagram', 'SOCIAL', '4.5', '66577313', 'Varies with device', '1,000,000,000+', 'Free', '0', 'Teen', 'Social', 'July 31, 2018', 'Varies with device', 'Varies with device']\n",
      "['Instagram', 'SOCIAL', '4.5', '66509917', 'Varies with device', '1,000,000,000+', 'Free', '0', 'Teen', 'Social', 'July 31, 2018', 'Varies with device', 'Varies with device']\n"
     ]
    }
   ],
   "source": [
    "print(android_header, '\\n')\n",
    "\n",
    "for app in android_body:\n",
    "    name = app[0]\n",
    "    if name == 'Instagram':\n",
    "        print(app)"
   ]
  },
  {
   "cell_type": "markdown",
   "metadata": {},
   "source": [
    "---\n",
    "Duplicates duplicates duplicates. But how do we choose which ones to keep and which ones to get rid of? Upon observation of Instagrams duplicates, we can see that all variables of the row are identical except for the `'Reviews'`. Our best educated guess would tell us that the highest `'Reviews'` count would mean the latest data on the app."
   ]
  },
  {
   "cell_type": "code",
   "execution_count": 7,
   "metadata": {},
   "outputs": [
    {
     "name": "stdout",
     "output_type": "stream",
     "text": [
      "Number of duplicate apps:  1170 \n",
      "\n",
      "Examples of duplicate apps:  ['Quick PDF Scanner + OCR FREE', 'Box', 'Google My Business', 'ZOOM Cloud Meetings', 'join.me - Simple Meetings', 'Box', 'Zenefits', 'Google Ads', 'Google My Business', 'Slack']\n"
     ]
    }
   ],
   "source": [
    "duplicate_apps = []\n",
    "unique_apps = []\n",
    "\n",
    "for app in android_body:\n",
    "    name = app[0]\n",
    "    if name in unique_apps:\n",
    "        duplicate_apps.append(name)\n",
    "    else:\n",
    "        unique_apps.append(name)\n",
    "\n",
    "print('Number of duplicate apps: ', len(duplicate_apps),\n",
    "      '\\n')\n",
    "print('Examples of duplicate apps: ', duplicate_apps[:10])"
   ]
  },
  {
   "cell_type": "markdown",
   "metadata": {},
   "source": [
    "---\n",
    "In the below cell we create a dictionary using a loop to check through the `duplicate_apps`, and:\n",
    ">- add to `reviews_max` only one of the duplicate names as a `key`.\n",
    "- also check through duplicates' reviews to assign the highest review as its `value`."
   ]
  },
  {
   "cell_type": "code",
   "execution_count": 8,
   "metadata": {},
   "outputs": [
    {
     "name": "stdout",
     "output_type": "stream",
     "text": [
      "8583\n"
     ]
    }
   ],
   "source": [
    "reviews_max =  {}\n",
    "\n",
    "for row in android_body:\n",
    "    name = row[0]\n",
    "    n_reviews = float(row[3])\n",
    "    \n",
    "    if (name in reviews_max) and (reviews_max[name] < n_reviews):\n",
    "        reviews_max[name] = n_reviews\n",
    "        \n",
    "    elif name not in reviews_max:\n",
    "        reviews_max[name] = n_reviews\n",
    "        \n",
    "print(len(reviews_max))"
   ]
  },
  {
   "cell_type": "markdown",
   "metadata": {},
   "source": [
    "---\n",
    "Now, for the cell below let's use the `reviews_max` dictionary we made earlier to filter duplicates from `android_body` and build a new duplicate-less list of lists called `android_clean`. We do this by adding each full row to `android_clean` if:\n",
    ">- The number of reviews of current app matches number of reviews in teh app stored in `reviews_max` dictionary; and\n",
    "- The name of the app is not already in `apps_added`. We need to add this supplementary condition to account for those cases where the highest number of reviews of a duplicate app is the same for more than one entry (for example, the Box app has three entries, and the number of reviews is the same). If we just check with `reviews_max[name] == n_reviews`, we'll still end up with duplicate entries for some apps."
   ]
  },
  {
   "cell_type": "code",
   "execution_count": 9,
   "metadata": {},
   "outputs": [],
   "source": [
    "android_clean = []\n",
    "android_added = []\n",
    "\n",
    "# loop to clean out Android duplicates \n",
    "for row in android_body:\n",
    "    name = row[0]\n",
    "    n_reviews = float(row[3])\n",
    "    \n",
    "    if (reviews_max[name] == n_reviews) and (name not in android_added):\n",
    "        android_clean.append(row)\n",
    "        android_added.append(name)"
   ]
  },
  {
   "cell_type": "code",
   "execution_count": 10,
   "metadata": {},
   "outputs": [
    {
     "name": "stdout",
     "output_type": "stream",
     "text": [
      "['App', 'Category', 'Rating', 'Reviews', 'Size', 'Installs', 'Type', 'Price', 'Content Rating', 'Genres', 'Last Updated', 'Current Ver', 'Android Ver'] \n",
      "\n",
      "['Photo Editor & Candy Camera & Grid & ScrapBook', 'ART_AND_DESIGN', '4.1', '159', '19M', '10,000+', 'Free', '0', 'Everyone', 'Art & Design', 'January 7, 2018', '1.0.0', '4.0.3 and up']\n",
      "\n",
      "\n",
      "['U Launcher Lite – FREE Live Cool Themes, Hide Apps', 'ART_AND_DESIGN', '4.7', '87510', '8.7M', '5,000,000+', 'Free', '0', 'Everyone', 'Art & Design', 'August 1, 2018', '1.2.4', '4.0.3 and up']\n",
      "\n",
      "\n",
      "['Sketch - Draw & Paint', 'ART_AND_DESIGN', '4.5', '215644', '25M', '50,000,000+', 'Free', '0', 'Teen', 'Art & Design', 'June 8, 2018', 'Varies with device', '4.2 and up']\n",
      "\n",
      "\n",
      "Total number of rows in :  8583\n",
      "Total number of columns:  13\n"
     ]
    }
   ],
   "source": [
    "print(android_header, '\\n')\n",
    "explore_data(android_clean, 0, 3, True)\n"
   ]
  },
  {
   "cell_type": "markdown",
   "metadata": {},
   "source": [
    "---\n",
    "## Removing Non-English Apps\n",
    "\n",
    "If you explore the data sets enough, you'll notice the names of some of the apps suggest they are not directed toward an English-speaking audience. Below, we see a couple of app row examples from both data sets:"
   ]
  },
  {
   "cell_type": "code",
   "execution_count": 11,
   "metadata": {},
   "outputs": [
    {
     "name": "stdout",
     "output_type": "stream",
     "text": [
      "搜狐新闻—新闻热点资讯掌上阅读软件\n",
      "エレメンタル ファンタジー - 高精細３ＤアクションＲＰＧ\n",
      "Adventure Xpress\n",
      "Advanced EX for KIA\n"
     ]
    }
   ],
   "source": [
    "print(ios_body[814][2])\n",
    "print(ios_body[6734][2])\n",
    "\n",
    "print(android_clean[4412][0])\n",
    "print(android_clean[7940][0])"
   ]
  },
  {
   "cell_type": "markdown",
   "metadata": {},
   "source": [
    "---\n",
    "We're not interested in keeping these kind of apps, so we'll remove them. One way to go about this is to remove each app whose name contains a symbol that is not commonly used in English text — English text usually includes letters from the English alphabet, numbers composed of digits from 0 to 9, punctuation marks (., !, ?, ;, etc.), and other symbols (+, *, /, etc.).\n",
    "\n",
    "All these characters that are specific to English texts are encoded using the [ASCII standard](https://www.ibm.com/support/knowledgecenter/SSQ2R2_9.1.1/com.ibm.ent.cbl.zos.doc/PGandLR/ref/rlebcasc.html). Each ASCII character has a corresponding number between 0 and 127 associated with it, and we can take advantage of that to build a function that checks an app name and tells us whether it contains non-ASCII characters."
   ]
  },
  {
   "cell_type": "code",
   "execution_count": 12,
   "metadata": {},
   "outputs": [
    {
     "name": "stdout",
     "output_type": "stream",
     "text": [
      "104\n",
      "128540\n",
      "1578\n"
     ]
    }
   ],
   "source": [
    "# built in `ord()` function returns the ASCII number associated with the character passed to it \n",
    "print(ord('h'))\n",
    "print(ord('😜'))\n",
    "print(ord('ت'))"
   ]
  },
  {
   "cell_type": "markdown",
   "metadata": {},
   "source": [
    "Function below checks for ASCII consistency in the string we pass to it.\n",
    "Since some apps with English ASCII characters also contain emojis and symbols(™, — (em dash), – (en dash) that fall outside of the ASCII range for English, we'll create a function to only remove an app if its name has more than three non-ASCII characters. Although obviously imperfect, it should suffice for this particular demonstration.\n",
    "\n",
    "---"
   ]
  },
  {
   "cell_type": "code",
   "execution_count": 13,
   "metadata": {},
   "outputs": [
    {
     "name": "stdout",
     "output_type": "stream",
     "text": [
      "True\n",
      "True\n",
      "False\n",
      "True\n"
     ]
    }
   ],
   "source": [
    "def is_english(string):\n",
    "    '''\n",
    "    Takes string as argument. -> Returns bool.\n",
    "    \n",
    "    Returns True if string contains 2 or less ACSII characters with corresponding numbers greater than 127\n",
    "    Returns False if string has 3 or more ASCII characters with corresponding numbers greater than 127\n",
    "    \n",
    "    Example:\n",
    "        >>> is_english('Docs To Go™ Free Office Suite')\n",
    "        [1] True \n",
    "\n",
    "        is_english('لعبة تقدر تربح DZ')\n",
    "        [2] False\n",
    "    '''\n",
    "    ascii_count = 0\n",
    "    for letter in string:\n",
    "        if ascii_count >= 3:\n",
    "            return False\n",
    "        elif ord(letter) > 127:\n",
    "            ascii_count += 1\n",
    "\n",
    "    return True\n",
    "\n",
    "print(is_english('hello world!'))\n",
    "print(is_english('Docs To Go™ Free Office Suite'))\n",
    "print(is_english('لعبة تقدر تربح DZ'))\n",
    "print(is_english('Instachat 😜'))"
   ]
  },
  {
   "cell_type": "markdown",
   "metadata": {},
   "source": [
    "---\n",
    "## Isolating Free and English Apps\n",
    "\n",
    "We'll use the newly created `is_english()` function to filter out non-English apps from both data sets. But also, as we mentioned in the introduction, we are interested in apps that are free to download and install. Our datasets contain both free and non-free apps, and we'll need to isolate only the free apps for our analysis as well. \n",
    "\n",
    " - We'll set the code up below to loop through each row or `android_clean` and `ios_body`. Any row that passes both tests of the `is_english()` function and price comparison(`'Price' == '0'`) below, get added to new \"final\" datasets."
   ]
  },
  {
   "cell_type": "code",
   "execution_count": 14,
   "metadata": {},
   "outputs": [
    {
     "name": "stdout",
     "output_type": "stream",
     "text": [
      "['App', 'Category', 'Rating', 'Reviews', 'Size', 'Installs', 'Type', 'Price', 'Content Rating', 'Genres', 'Last Updated', 'Current Ver', 'Android Ver'] \n",
      "\n",
      "['Photo Editor & Candy Camera & Grid & ScrapBook', 'ART_AND_DESIGN', '4.1', '159', '19M', '10,000+', 'Free', '0', 'Everyone', 'Art & Design', 'January 7, 2018', '1.0.0', '4.0.3 and up']\n",
      "\n",
      "\n",
      "['U Launcher Lite – FREE Live Cool Themes, Hide Apps', 'ART_AND_DESIGN', '4.7', '87510', '8.7M', '5,000,000+', 'Free', '0', 'Everyone', 'Art & Design', 'August 1, 2018', '1.2.4', '4.0.3 and up']\n",
      "\n",
      "\n",
      "Total number of rows in :  7909\n",
      "Total number of columns:  13\n",
      "\n",
      "\n",
      "['', 'id', 'track_name', 'size_bytes', 'currency', 'price', 'rating_count_tot', 'rating_count_ver', 'user_rating', 'user_rating_ver', 'ver', 'cont_rating', 'prime_genre', 'sup_devices.num', 'ipadSc_urls.num', 'lang.num', 'vpp_lic'] \n",
      "\n",
      "['2', '281796108', 'Evernote - stay organized', '158578688', 'USD', '0', '161065', '26', '4', '3.5', '8.2.2', '4+', 'Productivity', '37', '5', '23', '1']\n",
      "\n",
      "\n",
      "['3', '281940292', 'WeatherBug - Local Weather, Radar, Maps, Alerts', '100524032', 'USD', '0', '188583', '2822', '3.5', '4.5', '5.0.0', '4+', 'Weather', '37', '5', '3', '1']\n",
      "\n",
      "\n",
      "Total number of rows in :  3216\n",
      "Total number of columns:  17\n"
     ]
    }
   ],
   "source": [
    "android_final = []\n",
    "ios_final = []\n",
    "\n",
    "# loop to filter Android\n",
    "for row in android_clean:\n",
    "    name = row[0]\n",
    "    price = row[7]\n",
    "    if is_english(name) and (price == '0'):\n",
    "        android_final.append(row)\n",
    "\n",
    "# loop to filter iOS\n",
    "for row in ios_body:\n",
    "    name = row[2]\n",
    "    price = row[5]\n",
    "    if is_english(name) and price == '0':\n",
    "        ios_final.append(row)\n",
    "        \n",
    "print(android_header, '\\n')\n",
    "explore_data(android_final, 0, 2, True)\n",
    "print('\\n')\n",
    "print(ios_header, '\\n')\n",
    "explore_data(ios_final, 0, 2, True)"
   ]
  },
  {
   "cell_type": "markdown",
   "metadata": {},
   "source": [
    "---\n",
    "## Most Common Apps by Genre\n",
    "\n",
    "As we mentioned in the introduction, our aim is to determine the kinds of free apps(on both platforms) that are likely to attract more users because revenue of free apps are highly influenced by the number of people using these apps.\n",
    "We'll begin the analysis by getting a sense of the most common genres for each market. For this, we'll code a function that:\n",
    "\n",
    "- Compiles a frequency table(`dict` type) for the `'prime_genre'` column of the `ios_final` dataset, or the `'Genres'` and `'Category'` columns of the `android_final` dataset.\n",
    "- Calculates the percentage of apps per genre, sorts in descending order based on percentage, then displays it."
   ]
  },
  {
   "cell_type": "code",
   "execution_count": 15,
   "metadata": {},
   "outputs": [
    {
     "name": "stdout",
     "output_type": "stream",
     "text": [
      "Games : 58.24%\n",
      "Entertainment : 7.867%\n",
      "Photo & Video : 4.975%\n",
      "Education : 3.669%\n",
      "Social Networking : 3.296%\n",
      "Shopping : 2.581%\n",
      "Utilities : 2.488%\n",
      "Sports : 2.146%\n",
      "Music : 2.052%\n",
      "Health & Fitness : 2.021%\n",
      "Productivity : 1.741%\n",
      "Lifestyle : 1.586%\n",
      "News : 1.337%\n",
      "Travel : 1.244%\n",
      "Finance : 1.119%\n",
      "Weather : 0.871%\n",
      "Food & Drink : 0.808%\n",
      "Reference : 0.529%\n",
      "Business : 0.529%\n",
      "Book : 0.404%\n",
      "Navigation : 0.187%\n",
      "Medical : 0.187%\n",
      "Catalogs : 0.124%\n"
     ]
    }
   ],
   "source": [
    "\n",
    "def app_genre_percentage_display(dataset, index):\n",
    "    '''freq_table(iterable, int) -> print(dataset[index] = percentage occurence in relation to dataset)\n",
    "    Example:\n",
    "    >>> freq_table(['x','y'], 0)\n",
    "    x : 50.0\n",
    "    y : 50.0\n",
    "    '''\n",
    "    apps_freq = {}\n",
    "    for row in dataset:\n",
    "        value = row[index]\n",
    "        if value in apps_freq:\n",
    "            apps_freq[value] += 1\n",
    "        else:\n",
    "            apps_freq[value] = 1\n",
    "\n",
    "    apps_percentages = {}\n",
    "    for key in apps_freq:\n",
    "        percentage = apps_freq[key] / len(dataset) * 100\n",
    "        apps_percentages[key] = round(percentage, 3)\n",
    "    \n",
    "    apps_percentages = sorted(apps_percentages.items(), key=lambda x: x[1], reverse=True)\n",
    "    \n",
    "    for genre, percentage in apps_percentages:\n",
    "#         print(genre, ':' , percentage)\n",
    "        print(f\"{genre} : {percentage}%\")\n",
    "\n",
    "\n",
    "app_genre_percentage_display(ios_final, -5) # 'Prime Genre' column"
   ]
  },
  {
   "cell_type": "markdown",
   "metadata": {},
   "source": [
    "We can see that within the `ios_final` dataset, more than a half (57.85%) are games. `'Entertainment'` apps are close to 8%, followed by photo and video apps, which are close to 5%. Only 3.63% of the apps are designed for education, followed by social networking apps which amount for 3.26% of the apps in our data set.\n",
    "\n",
    "The general impression is that `ios_final` dataset is dominated by apps that are designed for fun (`'Games'`, `'Entertainment'`, `'Photo & Video'`, `'Social Networking'`, `'Sports'`, `'Music'`, etc.), while apps with practical purposes (`'Education'`, `'Shopping'`, `'Utilities'`, `'Productivity'`, `'Lifestyle'`, etc.) are more rare. However, the fact that fun apps are the most numerous doesn't also imply that they also have the greatest number of users — the demand might not be the same as the offer.\n",
    "\n",
    "---\n",
    "Let's continue by examining the `'Category'` column of the `android_final` data set.\n",
    "- ( Note: the `'Genre'` column could also be used; however, it is far too nuanced and granular for this analysis. )"
   ]
  },
  {
   "cell_type": "code",
   "execution_count": 16,
   "metadata": {},
   "outputs": [
    {
     "name": "stdout",
     "output_type": "stream",
     "text": [
      "FAMILY : 19.383%\n",
      "GAME : 10.558%\n",
      "TOOLS : 8.573%\n",
      "PRODUCTIVITY : 3.818%\n",
      "LIFESTYLE : 3.806%\n",
      "FINANCE : 3.793%\n",
      "BUSINESS : 3.679%\n",
      "SPORTS : 3.262%\n",
      "MEDICAL : 3.249%\n",
      "PHOTOGRAPHY : 3.174%\n",
      "PERSONALIZATION : 3.148%\n",
      "COMMUNICATION : 3.072%\n",
      "HEALTH_AND_FITNESS : 3.072%\n",
      "NEWS_AND_MAGAZINES : 2.693%\n",
      "SOCIAL : 2.655%\n",
      "SHOPPING : 2.314%\n",
      "TRAVEL_AND_LOCAL : 2.314%\n",
      "BOOKS_AND_REFERENCE : 2.074%\n",
      "VIDEO_PLAYERS : 1.871%\n",
      "DATING : 1.808%\n",
      "MAPS_AND_NAVIGATION : 1.467%\n",
      "EDUCATION : 1.29%\n",
      "FOOD_AND_DRINK : 1.252%\n",
      "ENTERTAINMENT : 1.075%\n",
      "AUTO_AND_VEHICLES : 0.923%\n",
      "LIBRARIES_AND_DEMO : 0.885%\n",
      "WEATHER : 0.834%\n",
      "HOUSE_AND_HOME : 0.771%\n",
      "ART_AND_DESIGN : 0.708%\n",
      "COMICS : 0.657%\n",
      "EVENTS : 0.645%\n",
      "PARENTING : 0.62%\n",
      "BEAUTY : 0.556%\n"
     ]
    }
   ],
   "source": [
    "app_genre_percentage_display(android_final, 1) # 'Category' column"
   ]
  },
  {
   "cell_type": "markdown",
   "metadata": {},
   "source": [
    "Up to this point, we found that the `ios_final` dataset is dominated by apps designed for fun, while the `android_final` shows a more balanced landscape of both practical and for-fun apps. Now we'd like to get an idea about the kind of apps that have most users.\n",
    "\n",
    "---\n",
    "\n",
    "### Most Popular Apps by Genre on the App Store\n",
    "\n",
    "One way to find out what genres are the most popular (have the most users) is to calculate the average number of installs for each app genre. For the `android_final` dataset, we can find this information in the `'Installs'` column, but for the `ios_final` dataset this information is missing. As a workaround, we'll take the total number of user ratings as a proxy, which we can find in the `rating_count_tot`. Below, we calculate the average number of user ratings per app genre on the App Store:"
   ]
  },
  {
   "cell_type": "code",
   "execution_count": 17,
   "metadata": {},
   "outputs": [
    {
     "name": "stdout",
     "output_type": "stream",
     "text": [
      "AVERAGE RATING COUNT PER APPLE APP GENRE: \n",
      "\n",
      "Productivity : 21028.41\n",
      "Weather : 52279.89\n",
      "Shopping : 27230.73\n",
      "Reference : 79350.47\n",
      "Finance : 31467.94\n",
      "Music : 57326.53\n",
      "Utilities : 18917.04\n",
      "Travel : 28243.8\n",
      "Social Networking : 71548.35\n",
      "Sports : 23008.9\n",
      "Health & Fitness : 23298.02\n",
      "Games : 22800.84\n",
      "Food & Drink : 33333.92\n",
      "News : 21248.02\n",
      "Book : 42816.85\n",
      "Photo & Video : 28441.54\n",
      "Entertainment : 14084.89\n",
      "Business : 7491.12\n",
      "Lifestyle : 16485.76\n",
      "Education : 7003.98\n",
      "Navigation : 86090.33\n",
      "Medical : 612.0\n",
      "Catalogs : 4004.0\n"
     ]
    }
   ],
   "source": [
    "\n",
    "def freq_table(dataset, index):\n",
    "    '''freq_table(iterable, int) -> dictionary. dataset[index] = number_of_occurences\n",
    "    >>> freq_table(['x','y'],['y','y'], 1)\n",
    "    {'y': 2}\n",
    "    '''\n",
    "    table = {}\n",
    "    for row in dataset:\n",
    "        value = row[index]\n",
    "        if value in table:\n",
    "            table[value] += 1\n",
    "        else:\n",
    "            table[value] = 1\n",
    "            \n",
    "    return table\n",
    "\n",
    "ios_genre_freq = freq_table(ios_final, -5)\n",
    "\n",
    "print('AVERAGE RATING COUNT PER APPLE APP GENRE:', '\\n')\n",
    "for genre in ios_genre_freq:\n",
    "    total = 0\n",
    "    len_genre = 0\n",
    "    for row in ios_final:\n",
    "        app_genre = row[-5]\n",
    "        if app_genre == genre:\n",
    "            n_ratings = float(row[6])\n",
    "            total += n_ratings\n",
    "            len_genre += 1\n",
    "    avg_n_ratings = total / len_genre\n",
    "    print(genre, ':', round(avg_n_ratings, 2))"
   ]
  },
  {
   "cell_type": "markdown",
   "metadata": {},
   "source": [
    "---\n",
    "On average, navigation apps have the highest number of user reviews, but this figure is heavily influenced by `Waze` and `Google Maps`, which have close to half a million `'user_ratings'` together:"
   ]
  },
  {
   "cell_type": "code",
   "execution_count": 18,
   "metadata": {},
   "outputs": [
    {
     "name": "stdout",
     "output_type": "stream",
     "text": [
      "Waze - GPS Navigation, Maps & Real-time Traffic : 345046\n",
      "Geocaching® : 12811\n",
      "ImmobilienScout24: Real Estate Search in Germany : 187\n",
      "Railway Route Search : 5\n",
      "CoPilot GPS – Car Navigation & Offline Maps : 3582\n",
      "Google Maps - Navigation & Transit : 154911\n"
     ]
    }
   ],
   "source": [
    "for app in ios_final:\n",
    "    if app[-5] == 'Navigation':\n",
    "        print(app[2], ':', app[6])"
   ]
  },
  {
   "cell_type": "markdown",
   "metadata": {},
   "source": [
    "The same pattern applies to social networking apps, where the average number is heavily influenced by a few giants like `Facebook`, `Pinterest`, `Skype`, etc. Same applies to music apps, where a few big players like `Pandora`, `Spotify`, and `Shazam` heavily influence the average number.\n",
    "\n",
    "Our aim is to find popular genres, but navigation, social networking or music apps might seem more popular than they really are. The average number of ratings seem to be skewed by very few apps which have hundreds of thousands of user ratings, while the other apps may struggle to get past the 10,000 threshold. We could get a better picture by removing these extremely popular apps for each genre and then rework the averages, but we'll leave this level of detail for later.\n",
    "\n",
    "---\n",
    "Reference apps have 79,350 user ratings on average, but it's actually the `Bible` and `Dictionary.com` which skew up the average rating:"
   ]
  },
  {
   "cell_type": "code",
   "execution_count": 19,
   "metadata": {},
   "outputs": [
    {
     "name": "stdout",
     "output_type": "stream",
     "text": [
      "Bible : 985920\n",
      "Dictionary.com Dictionary & Thesaurus : 200047\n",
      "Dictionary.com Dictionary & Thesaurus for iPad : 54175\n",
      "Muslim Pro: Ramadan 2017 Prayer Times, Azan, Quran : 18418\n",
      "Merriam-Webster Dictionary : 16849\n",
      "Google Translate : 26786\n",
      "Night Sky : 12122\n",
      "WWDC : 762\n",
      "Jishokun-Japanese English Dictionary & Translator : 0\n",
      "VPN Express : 14\n",
      "New Furniture Mods - Pocket Wiki & Game Tools for Minecraft PC Edition : 17588\n",
      "LUCKY BLOCK MOD ™ for Minecraft PC Edition - The Best Pocket Wiki & Mods Installer Tools : 4693\n",
      "Guides for Pokémon GO - Pokemon GO News and Cheats : 826\n",
      "Horror Maps for Minecraft PE - Download The Scariest Maps for Minecraft Pocket Edition (MCPE) Free : 718\n",
      "City Maps for Minecraft PE - The Best Maps for Minecraft Pocket Edition (MCPE) : 8535\n",
      "GUNS MODS for Minecraft PC Edition - Mods Tools : 1497\n",
      "Real Bike Traffic Rider Virtual Reality Glasses : 8\n"
     ]
    }
   ],
   "source": [
    "for app in ios_final:\n",
    "    if app[-5] == 'Reference':\n",
    "        print(app[2], ':', app[6])"
   ]
  },
  {
   "cell_type": "code",
   "execution_count": 20,
   "metadata": {},
   "outputs": [
    {
     "name": "stdout",
     "output_type": "stream",
     "text": [
      "1,000,000+ : 17.6%\n",
      "100,000+ : 12.72%\n",
      "10,000,000+ : 11.822%\n",
      "10,000+ : 10.962%\n",
      "1,000+ : 7.65%\n",
      "5,000,000+ : 7.637%\n",
      "500,000+ : 6.195%\n",
      "50,000+ : 5.184%\n",
      "5,000+ : 4.64%\n",
      "100+ : 4.362%\n",
      "50,000,000+ : 2.579%\n",
      "500+ : 2.529%\n",
      "100,000,000+ : 2.39%\n",
      "10+ : 1.669%\n",
      "50+ : 1.037%\n",
      "500,000,000+ : 0.303%\n",
      "5+ : 0.278%\n",
      "1,000,000,000+ : 0.253%\n",
      "1+ : 0.164%\n",
      "0+ : 0.025%\n"
     ]
    }
   ],
   "source": [
    "app_genre_percentage_display(android_final, 5)"
   ]
  },
  {
   "cell_type": "markdown",
   "metadata": {},
   "source": [
    "---\n",
    "One problem with this data is that is not precise. For instance, we don't know whether an app with 100,000+ installs has 100,000 installs, 200,000, or 350,000. However, we don't need very precise data for our purposes — we only want to get an idea which app genres attract the most users, and we don't need perfect precision with respect to the number of users.\n",
    "\n",
    "We're going to leave the numbers as they are, which means that we'll consider that an app with 100,000+ installs has 100,000 installs, and an app with 1,000,000+ installs has 1,000,000 installs, and so on.\n",
    "\n",
    "To perform computations, however, we'll need to convert each install number to float — this means that we need to remove the commas and the plus characters, otherwise the conversion will fail and raise an error. We'll do this directly in the loop below, where we also compute the average number of installs for each genre (category)."
   ]
  },
  {
   "cell_type": "code",
   "execution_count": 21,
   "metadata": {},
   "outputs": [
    {
     "name": "stdout",
     "output_type": "stream",
     "text": [
      "AVERAGE INSTALLS PER ANDROID APP CATEGORY: \n",
      "\n",
      "ART_AND_DESIGN : 2021716.07\n",
      "AUTO_AND_VEHICLES : 727121.92\n",
      "BEAUTY : 611961.36\n",
      "BOOKS_AND_REFERENCE : 10156777.56\n",
      "BUSINESS : 2394383.08\n",
      "COMICS : 863675.0\n",
      "COMMUNICATION : 45419276.46\n",
      "DATING : 985340.18\n",
      "EDUCATION : 1850490.2\n",
      "ENTERTAINMENT : 11640705.88\n",
      "EVENTS : 312761.18\n",
      "FINANCE : 1517130.87\n",
      "FOOD_AND_DRINK : 2137555.82\n",
      "HEALTH_AND_FITNESS : 4705903.95\n",
      "HOUSE_AND_HOME : 1581509.85\n",
      "LIBRARIES_AND_DEMO : 746988.57\n",
      "LIFESTYLE : 1652537.0\n",
      "GAME : 16091751.5\n",
      "FAMILY : 4040034.88\n",
      "MEDICAL : 146741.84\n",
      "SOCIAL : 26132614.55\n",
      "SHOPPING : 7652095.9\n",
      "PHOTOGRAPHY : 18550857.81\n",
      "SPORTS : 4244782.33\n",
      "TRAVEL_AND_LOCAL : 15817915.36\n",
      "TOOLS : 11944673.57\n",
      "PERSONALIZATION : 6140956.19\n",
      "PRODUCTIVITY : 19177522.8\n",
      "PARENTING : 634204.29\n",
      "WEATHER : 5457378.79\n",
      "VIDEO_PLAYERS : 26565731.08\n",
      "NEWS_AND_MAGAZINES : 11117853.0\n",
      "MAPS_AND_NAVIGATION : 4293557.5\n"
     ]
    }
   ],
   "source": [
    "android_category_freq = freq_table(android_final, 1)\n",
    "print('AVERAGE INSTALLS PER ANDROID APP CATEGORY:', '\\n')\n",
    "for category in android_category_freq:\n",
    "    total = 0\n",
    "    len_category = 0\n",
    "    \n",
    "    for row in android_final:\n",
    "        app_category = row[1]\n",
    "        \n",
    "        if app_category == category:\n",
    "            installs = row[5]\n",
    "            installs = installs.replace('+','').replace(',', '')\n",
    "            total += float(installs)\n",
    "            len_category += 1\n",
    "    category_avg = total / len_category\n",
    "    print(category, ':', round(category_avg, 2))"
   ]
  },
  {
   "cell_type": "markdown",
   "metadata": {},
   "source": [
    "On average, `'COMMUNICATION'` apps have the most installs: 45,419,276. This number is heavily skewed up by a few apps that have over one billion installs (`WhatsApp`, `Facebook Messenger`, `Skype`, `Google Chrome`, `Gmail`, and `Hangouts`), and a few others with over 100 and 500 million `'Installs'`:"
   ]
  },
  {
   "cell_type": "code",
   "execution_count": 22,
   "metadata": {},
   "outputs": [
    {
     "name": "stdout",
     "output_type": "stream",
     "text": [
      "WhatsApp Messenger : 1,000,000,000+\n",
      "imo beta free calls and text : 100,000,000+\n",
      "Android Messages : 100,000,000+\n",
      "Google Duo - High Quality Video Calls : 500,000,000+\n",
      "Messenger – Text and Video Chat for Free : 1,000,000,000+\n",
      "imo free video calls and chat : 500,000,000+\n",
      "Skype - free IM & video calls : 1,000,000,000+\n",
      "Who : 100,000,000+\n",
      "GO SMS Pro - Messenger, Free Themes, Emoji : 100,000,000+\n",
      "LINE: Free Calls & Messages : 500,000,000+\n",
      "Google Chrome: Fast & Secure : 1,000,000,000+\n",
      "Firefox Browser fast & private : 100,000,000+\n",
      "UC Browser - Fast Download Private & Secure : 500,000,000+\n",
      "Gmail : 1,000,000,000+\n",
      "Hangouts : 1,000,000,000+\n",
      "Messenger Lite: Free Calls & Messages : 100,000,000+\n",
      "Kik : 100,000,000+\n",
      "KakaoTalk: Free Calls & Text : 100,000,000+\n",
      "Opera Mini - fast web browser : 100,000,000+\n",
      "Opera Browser: Fast and Secure : 100,000,000+\n",
      "Telegram : 100,000,000+\n",
      "Truecaller: Caller ID, SMS spam blocking & Dialer : 100,000,000+\n",
      "UC Browser Mini -Tiny Fast Private & Secure : 100,000,000+\n",
      "Viber Messenger : 500,000,000+\n",
      "WeChat : 100,000,000+\n",
      "Yahoo Mail – Stay Organized : 100,000,000+\n",
      "BBM - Free Calls & Messages : 100,000,000+\n"
     ]
    }
   ],
   "source": [
    "for app in android_final:\n",
    "    if app[1] == 'COMMUNICATION' and (app[5] == '1,000,000,000+'\n",
    "                                     or app[5] == '500,000,000+'\n",
    "                                     or app[5] == '100,000,000+'):\n",
    "        print(app[0], ':', app[5])"
   ]
  },
  {
   "cell_type": "markdown",
   "metadata": {},
   "source": [
    "---\n",
    "If we removed all the communication apps that have over 100 million installs, the average would be reduced roughly ten times:"
   ]
  },
  {
   "cell_type": "code",
   "execution_count": 23,
   "metadata": {},
   "outputs": [
    {
     "data": {
      "text/plain": [
       "4337426.759259259"
      ]
     },
     "execution_count": 23,
     "metadata": {},
     "output_type": "execute_result"
    }
   ],
   "source": [
    "under_100_mil = []\n",
    "\n",
    "for row in android_final:\n",
    "    n_installs = row[5]\n",
    "    n_installs = n_installs.replace(',', '').replace('+','')\n",
    "    if (row[1] == 'COMMUNICATION') and (float(n_installs) < 100000000):\n",
    "        under_100_mil.append(float(n_installs))\n",
    "        \n",
    "sum(under_100_mil) / len(under_100_mil)"
   ]
  },
  {
   "cell_type": "markdown",
   "metadata": {},
   "source": [
    "We see the same pattern for the `'VIDEO_PLAYERS'` category, which is the runner-up with 26,565,731 installs. \n",
    "\n",
    "---\n",
    "\n",
    "## Conclusion/Observation:\n",
    "\n",
    "The market is dominated by apps like `Youtube`, `Google Play Movies & TV`, or `MX Player`. The pattern is repeated for social apps (where we have giants like `Facebook`, `Instagram`, `Google+`, etc.), photography apps (`Google Photos` and other popular photo editors), or productivity apps (`Microsoft Word`, `Dropbox`, `Google Calendar`, `Evernote`, etc.).\n",
    "\n",
    "\n",
    "\n",
    "\n",
    "Although it seems clear that the type of apps aforementioned are great in the number of users they attract. The main concern(and my personal assessment for now) is that these app __genres__ might seem more popular than they really are because of near total monopolization. Now if I were inclined to develop an application for either platform, the approach would be more nuanced to find a genre that may have large competetors but not to the extent that we see in previous examples.\n",
    "\n",
    "---\n",
    "\n",
    "### Going Forward:\n",
    "\n",
    "This was a brief practice analysis.\n",
    "I will be adding more cells below in the future as I tinker again with the `Genre` column or others such as `User Ratings` and others."
   ]
  },
  {
   "cell_type": "code",
   "execution_count": 30,
   "metadata": {},
   "outputs": [],
   "source": [
    "for app in ios_final:\n",
    "    if app[-5] == 'Reference' and float(app[5]) > 0 :\n",
    "        print(app)\n",
    "#         print(app[2], ':', app[6])"
   ]
  },
  {
   "cell_type": "code",
   "execution_count": null,
   "metadata": {},
   "outputs": [],
   "source": []
  }
 ],
 "metadata": {
  "kernelspec": {
   "display_name": "Python 3",
   "language": "python",
   "name": "python3"
  },
  "language_info": {
   "codemirror_mode": {
    "name": "ipython",
    "version": 3
   },
   "file_extension": ".py",
   "mimetype": "text/x-python",
   "name": "python",
   "nbconvert_exporter": "python",
   "pygments_lexer": "ipython3",
   "version": "3.7.5"
  }
 },
 "nbformat": 4,
 "nbformat_minor": 4
}
